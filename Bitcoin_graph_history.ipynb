{
 "cells": [
  {
   "cell_type": "code",
   "execution_count": 1,
   "id": "67bc5598",
   "metadata": {},
   "outputs": [],
   "source": [
    "from bokeh.plotting import figure, output_file, show\n",
    "import pandas\n",
    "from bokeh.models import HoverTool, ColumnDataSource\n",
    "\n",
    "#df=pandas.read_csv(\"https://query1.finance.yahoo.com/v7/finance/download/BTC-USD?period1=1410912000&period2=1639958400&interval=1d&events=history&includeAdjustedClose=true\",parse_dates=[\"Date\"])\n",
    "df=pandas.read_csv(\"coin_Bitcoin.csv\",parse_dates=[\"Date\"])\n",
    "\n",
    "df[\"Date_string\"]=df[\"Date\"].dt.strftime(\"%Y-%m-%d %H:%M:%S\")\n",
    "\n",
    "# create a ColumnDataSource by passing the dict\n",
    "source = ColumnDataSource(df)\n",
    "\n",
    "p=figure(width=500,height=250,sizing_mode=\"stretch_both\",x_axis_type=\"datetime\")\n",
    "\n",
    "p.title.text = \"Bitcoin USD (BTC-USD) High Price History\"\n",
    "p.title.text_color = \"Black\"\n",
    "p.title.text_font = \"times\"\n",
    "p.title.text_font_style = \"bold\"\n",
    "p.title.text_font_size = \"20pt\"\n",
    "p\n",
    "p.xaxis.axis_label = \"Date\"\n",
    "p.yaxis.axis_label = \"Price USD\"\n",
    "\n",
    "hover=HoverTool(\n",
    "    tooltips=[\n",
    "        (\"Date\", \"@Date_string\"), #( 'Date',   '@Date{%F}' - alternative\n",
    "        (\"Price\", \"$@High{%.2f}\"),\n",
    "    ],\n",
    "    \n",
    "formatters={\n",
    "    #'@Date'  : 'datetime', # use 'datetime' formatter for '@Date' field\n",
    "    \"@High\" : \"printf\", # use 'printf' formatter for '@High' field\n",
    "    \n",
    "},\n",
    "\n",
    "# display a tooltip whenever the cursor is vertically in line with a glyph\n",
    "mode=\"vline\"\n",
    ")\n",
    "\n",
    "p.add_tools(hover)\n",
    "\n",
    "p.line(x=\"Date\", y=\"High\",color=\"Orange\",alpha=0.5,line_width=1.5,source=source)\n",
    "\n",
    "output_file(\"Bitcoin_price_history.html\")\n",
    "show(p)"
   ]
  }
 ],
 "metadata": {
  "kernelspec": {
   "display_name": "Python 3 (ipykernel)",
   "language": "python",
   "name": "python3"
  },
  "language_info": {
   "codemirror_mode": {
    "name": "ipython",
    "version": 3
   },
   "file_extension": ".py",
   "mimetype": "text/x-python",
   "name": "python",
   "nbconvert_exporter": "python",
   "pygments_lexer": "ipython3",
   "version": "3.8.10"
  }
 },
 "nbformat": 4,
 "nbformat_minor": 5
}
